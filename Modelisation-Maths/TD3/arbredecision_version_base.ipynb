{
 "cells": [
  {
   "cell_type": "markdown",
   "metadata": {},
   "source": [
    "# <center>TD3: Les arbres de décision </center>\n",
    "\n",
    "Nous allons travailler cette semaine sur les arbres de décision.\n",
    "\n",
    "Nous allons d'abord développer l'algorithme à la main afin de bien comprendre comment il fonctionne. Dans le monde professionnel, il ne faudra surtout pas utiliser un programme de classification développer à la main car il ne sera pas optimisé. Nous le faisons ici dans un but pédagogique afin de bien comprendre comment il fonctionne et pour le maitriser.\n",
    "\n",
    "Nous allons développer un programme qui construit un arbre de décision. Le jeu de données qui est stocké dans le fichier *magasin.csv* concerne une étude marketing réalisée dans le cadre de la vente de vêtements dans un magasin dédié. Le jeu de données comprend 4 variables caractéristiques qui sont des nombres: le prix du vêtement, sa qualité (notée entre 0 et 100), son degré d'adéquation aux tendances de la mode au moment de l'enquête (noté entre 0 et 100), ses coloris qui interpellent ou non (noté entre 0 et 100). La variable cible qui est un nombre (0 ou 1) détermine si le vêtement a été acheté ou non.\n",
    "Le but de cette classification et d'obtenir les règles qui permettent de modèliser le processus d'achat ou non d'un vêtement en fonction des 4 variables caractéristiques.\n",
    "\n",
    "\n",
    "Votre travail consiste à écrire le code de certaines parties qui manquent dans les cellules ci-dessous\n",
    "\n"
   ]
  },
  {
   "cell_type": "code",
   "execution_count": 2,
   "metadata": {},
   "outputs": [],
   "source": [
    "import numpy as np \n",
    "import pandas as pd\n",
    "from collections import Counter\n",
    "from functools import reduce\n",
    "import operator\n",
    "from sklearn import datasets"
   ]
  },
  {
   "cell_type": "markdown",
   "metadata": {},
   "source": [
    "Charger les données stockées dans *data/magasin.csv* dans un dataframe et l'afficher"
   ]
  },
  {
   "cell_type": "code",
   "execution_count": null,
   "metadata": {},
   "outputs": [],
   "source": [
    "#TODO\n",
    "\n"
   ]
  },
  {
   "cell_type": "markdown",
   "metadata": {},
   "source": [
    "Vous avez ci-dessous la classe *noeud* qui correspondra à un noeud de l'arbre de décision. \n",
    "Vous n'avez rien à développer"
   ]
  },
  {
   "cell_type": "code",
   "execution_count": 24,
   "metadata": {},
   "outputs": [],
   "source": [
    "class Noeud:\n",
    "   \"\"\"Cette classe a pour but de représenter les branches de l'arbre de\n",
    "   classification.\n",
    "   \"\"\"   \n",
    "   def __init__(self, feature, value,left_branch, right_branch, depth, effectif):\n",
    "      self.feature = feature\n",
    "      self.value = value\n",
    "      self.left_branch = left_branch\n",
    "      self.right_branch = right_branch\n",
    "      self.depth = depth\n",
    "      self.effectif = effectif \n",
    "       \n",
    "   \"\"\" Cette méthode permet de retourner la chaine de  caractère qui représente une régle de l'arbre de décision\"\"\"\n",
    "   def split(self):\n",
    "          return self.feature + ' <= ' + str(self.value)  "
   ]
  },
  {
   "cell_type": "markdown",
   "metadata": {},
   "source": [
    "Vous avez ci-dessous la classe *feuille* qui correspondra à une feuille de l'arbre de décision. \n",
    "Vous n'avez rien à développer"
   ]
  },
  {
   "cell_type": "code",
   "execution_count": 3,
   "metadata": {},
   "outputs": [],
   "source": [
    "class Feuille:\n",
    "  \"\"\"Cette classe a pour but de représenter une feuille de notre arbre de\n",
    "  décision.\n",
    "  \"\"\"\n",
    "  def __init__(self, df_data_feuille, effectif, classe_predite, probabilites):\n",
    "    self.dataset = df_data_feuille\n",
    "    self.effectif = effectif\n",
    "    self.classe_predite = classe_predite\n",
    "    self.probabilites = probabilites"
   ]
  },
  {
   "cell_type": "markdown",
   "metadata": {},
   "source": [
    "Fonction qui permet d'afficher les noeuds et les feuilles d'un arbre de décision  \n",
    "Rien à développer"
   ]
  },
  {
   "cell_type": "code",
   "execution_count": 2,
   "metadata": {},
   "outputs": [],
   "source": [
    "def print_arbre_decision(branche, decalage=\"\"):\n",
    "  \"\"\"Affichage de l'arbre de décision \n",
    "  INPUT \n",
    "     - branche : branche à afficher (noeud ou feuille)\n",
    "     - decalage: pour décaler l'affichage, utilisé dans la récursivité\n",
    "    \"\"\"\n",
    "\n",
    "  \n",
    "  # Différents affichages si c'est une feuille \n",
    "  if isinstance(branche, Feuille):\n",
    "      print (decalage +\"Predict\", branche.classe_predite)\n",
    "      print (decalage +\"Predict\", branche.probabilites)\n",
    "      return\n",
    "\n",
    "  # Affichage de la condition de la séparation\n",
    "  print (decalage+ branche.split())\n",
    "\n",
    "  # Dans le cas où la condition est vérifiée\n",
    "  print (decalage + '--> True:')\n",
    "  print_arbre_decision(branche.left_branch,decalage +\"  \")\n",
    "\n",
    "  # Dans le cas où la condition n'est pas vérifiée\n",
    "  print(decalage + '--> False:')\n",
    "  print_arbre_decision(branche.right_branch,decalage + \"  \")"
   ]
  },
  {
   "cell_type": "markdown",
   "metadata": {},
   "source": [
    "Les méthodes dont le code est manquant (TODO) doivent être développées.\n",
    "Tester vos méthodes une à une (test unitaire).  \n",
    "\n",
    "Des cas d'usage vous sont aussi demandés dans certaines cellules ci-dessous. Vous ne pourrez bien sûr les mettre en place que lorsque vous aurez développé certaines méthodes de la classe. Cette possibilité sera indiquée dans un commentaire dans la méthode au fur à mesure que vous avancerez dans le développement."
   ]
  },
  {
   "cell_type": "code",
   "execution_count": 2,
   "metadata": {},
   "outputs": [],
   "source": [
    "class Arbre_decision :\n",
    "  \"\"\" Cette classe a pour but de créer un algorithme d'apprentissage automatique\n",
    "  d'arbres de décision qui classifie des données. Les variables caractéristiques sont toutes quantitatives\"\"\"\n",
    "\n",
    " #TODO\n",
    "  def __init__(self, target_feature, df_dataset, max_depth):\n",
    "    \"\"\"Constructeur \n",
    "   PARAMETRES\n",
    "    - target_feature : chaine de caractère qui correspond à la variable cible qu'il faudra classifier\n",
    "    par exemple ici, \"Achat\"\n",
    "    - df_dataset : toutes les données d'apprentissage (un dataframe)\n",
    "    - max_depth : la profondeur maximale de l'arbre à entraîner\n",
    "   \"\"\"\n",
    "   \n",
    "# méthode fournie.  \n",
    "# Mettre en place le premier cas d'usage dans la cellule dédiée de ce notebook\n",
    "  def creer_feuille(self, df_data_feuille):\n",
    "    \"\"\" Création d'une feuille \n",
    "    PARAMETRES\n",
    "       - df_data_feuille : dataframe contenant les données concernant la feuille à construire\n",
    "    RESULTAT\n",
    "       - feuille : la classe feuille créée avec les informations de df_dataset\"\"\"\n",
    "\n",
    "    target = df_data_feuille[self.target_feature]\n",
    "    effectif = target.shape[0]\n",
    "    dict_targets_count=Counter(target)\n",
    "    classe_predite = max(dict_targets_count.items(), key=operator.itemgetter(1))[0]\n",
    "    probabilite = {l: label_count/effectif for l, label_count in dict_targets_count.items()}\n",
    "    return Feuille(df_data_feuille, effectif, classe_predite, probabilite)\n",
    "  \n",
    "\n",
    "\n",
    "\n",
    "#TODO\n",
    "  def decouper_dataset_en_2(self, feature, value, df_dataset):\n",
    "   \"\"\"Cette fonction sépare un jeu de données en 2 en fonction\n",
    "   de la valeur 'value' de la variable quantitative 'feature' passée en paramètre.\n",
    "  \n",
    "   PARAMETRES\n",
    "    - feature : chaine de caractère correspondant à la variable à séparer\n",
    "    - value : nombre correspondant à la valeur à laquelle séparer notre jeu de données\n",
    "    - df_dataset : pandas dataframe à séparer\n",
    "   RESULTAT\n",
    "   On retourne 2 dataframe\n",
    "    - left : dataframe avec les données où 'feature' est plus petit ou égale à 'value'\n",
    "    - right : dataframe avec les données où 'feature' est plus grande que 'value' \n",
    "   \"\"\"\n",
    "   \n",
    "  \n",
    "#TODO\n",
    "  def calculer_probabilites_carre(self,df_target):\n",
    "    \"\"\"Calculer les probabilités au carré pour chaque classe de valeur de la variable cible \n",
    "    PARAMETRES\n",
    "       - df_target : dataframe contenant la variable cible\n",
    "    RESULTAT\n",
    "       un tableau contenant les probabilités au carré associées à chaque classe de valeur de la variable cible\n",
    "    \"\"\"\n",
    "    \n",
    "\n",
    "  #TODO\n",
    "  def calculer_gini(self, df_target):\n",
    "    \"\"\"Calcul du coefficient Gini du dataset \n",
    "    PARAMETRES\n",
    "       - df_target : dataframe contenant des données relatives à la variable cible\n",
    "    RESULTAT\n",
    "       le coefficient Gini calculé à partir du dataframe en entrée\n",
    "    \"\"\"\n",
    "    \n",
    "  \n",
    "  #TODO \n",
    "  # Lorsque cette méthode sera développée vous pourrez mettre en place le second cas d'usage\n",
    "  def calculer_cout_separation_en_2(self, df_dataset_gauche, df_dataset_droit):\n",
    "    \"\"\" Calculer le coût d'une séparation d'un noeud en deux branches\n",
    "    PARAMETRES\n",
    "       - df_dataset_gauche : dataset de la branche de gauche\n",
    "       - df_dataset_droit : dataset de la branche de droite\n",
    "    RESULTAT\n",
    "       coût de la séparation\"\"\"\n",
    "    \n",
    "  \n",
    "  \n",
    "  #TODO\n",
    "  def calcul_couts_separation(self, df_dataset, feature):\n",
    "    \"\"\" calculer les coûts de toutes les séparations possibles d'une variable feature\n",
    "    PARAMETRES\n",
    "       - df_dataset : dataset à évaluer\n",
    "       - feature : variable du dataset à évaluer\n",
    "    RESULTAT \n",
    "       dataframe contenant le coût de chaque séparation\"\"\" \n",
    "\n",
    "    \n",
    "  \n",
    "  #TODO\n",
    "  # Lorsque cette méthode sera développée vous pourrez mettre en place le troisième cas d'usage ainsi que le quatrième\n",
    "  def trouver_meilleure_séparation(self, df_dataset):\n",
    "    \"\"\" Trouver la meilleure séparation du dataset passé en paramètre\n",
    "    PARAMETRES \n",
    "       - df_dataset : dataframe qui contient le jeu de données à séparer\n",
    "    RESULTAT \n",
    "       un dataframe comprenant 3 colonnes nommées: 'feature' variable à séparer, 'value' \n",
    "       la valeur à laquelle séparer la variable, et 'cost' le coût de cette séparation. \n",
    "       Les données de ces colonnes seront les données relatives à la meilleure séparation trouvée\"\"\"\n",
    "    \n",
    "    \n",
    "\n",
    "\n",
    "  #TODO\n",
    "  # Lorsque cette méthode sera développée vous pourrez mettre en place le dernier cas d'usage (cinquième)\n",
    "  def entrainer(self, df_dataset, depth=0):\n",
    "      \"\"\"Cette fonction construit l'arbre de décision relative aux jeux de données df_dataset\n",
    "      l'algorithme est récursif\n",
    "      PARAMETRES \n",
    "         - depth : profondeur actuel de l'arbre, 0 pour l'initialisation\n",
    "         - df_dataset: le dataframe qui contient le jeu de données\n",
    "      RESULTAT\n",
    "         - node : racine de l'arbre\n",
    "      \"\"\"\n",
    "      \n",
    "      \n",
    "   "
   ]
  },
  {
   "cell_type": "markdown",
   "metadata": {},
   "source": [
    "### Premier cas d'usage\n",
    "\n",
    "- utiliser la méthode *creer_feuille* sur le jeu de données initial\n",
    "- afficher pour cette feuille l'attribut *prediction*, *effectif* et *probabilites*\n",
    "\n",
    "> Résultats à obtenir\n",
    "\n",
    "> 0 pour la classe prédite (la classe: Non Achat ici)  \n",
    "> 78 pour l'effectif de la classe  \n",
    "> les probabilités pour la régle: 0.51 pour la classe 0 et 0.48 pour la classe 1  "
   ]
  },
  {
   "cell_type": "code",
   "execution_count": 3,
   "metadata": {},
   "outputs": [],
   "source": [
    "#TODO"
   ]
  },
  {
   "cell_type": "markdown",
   "metadata": {},
   "source": [
    "### Second cas d'usage\n",
    "\n",
    "- découper le dataset initial en 2 en utilisant la valeur \"Mode\" égal à 50\n",
    "- calculer le coût de séparation en 2\n",
    "\n",
    "> on doit trouver: 0,47\n"
   ]
  },
  {
   "cell_type": "code",
   "execution_count": null,
   "metadata": {},
   "outputs": [],
   "source": [
    "#TODO"
   ]
  },
  {
   "cell_type": "markdown",
   "metadata": {},
   "source": [
    "### Troisième cas d'usage\n",
    "\n",
    "- calculer le tableau des coûts de séparation relatifs à la variable \"Mode\"\n",
    "- donner la meilleure séparation \n",
    "\n",
    "> vous devez obtenir: *valeur 80 et coût de 0.43*"
   ]
  },
  {
   "cell_type": "code",
   "execution_count": null,
   "metadata": {},
   "outputs": [],
   "source": [
    "#TODO"
   ]
  },
  {
   "cell_type": "markdown",
   "metadata": {},
   "source": [
    "### Quatrième cas d'usage\n",
    "\n",
    "- trouver la meilleure séparation du dataset initial\n",
    "- découper le dataset en 2 à partir de la caractéristique et de la valeur trouvée précédemment\n",
    "- créer le noeud correspondant\n",
    "- afficher la régle de décision trouvée (méthode split() de noeud)\n",
    "\n",
    "> *Mode <= 80* doit s'afficher"
   ]
  },
  {
   "cell_type": "code",
   "execution_count": null,
   "metadata": {},
   "outputs": [],
   "source": [
    "#TODO"
   ]
  },
  {
   "cell_type": "markdown",
   "metadata": {},
   "source": [
    "### Cinquième cas d'usage\n",
    "\n",
    "Afficher l'arbre de décision relatif au jeu de données"
   ]
  },
  {
   "cell_type": "code",
   "execution_count": null,
   "metadata": {},
   "outputs": [],
   "source": [
    "#TODO"
   ]
  }
 ],
 "metadata": {
  "kernelspec": {
   "display_name": "base",
   "language": "python",
   "name": "python3"
  },
  "language_info": {
   "codemirror_mode": {
    "name": "ipython",
    "version": 3
   },
   "file_extension": ".py",
   "mimetype": "text/x-python",
   "name": "python",
   "nbconvert_exporter": "python",
   "pygments_lexer": "ipython3",
   "version": "3.9.13"
  },
  "orig_nbformat": 4
 },
 "nbformat": 4,
 "nbformat_minor": 2
}
