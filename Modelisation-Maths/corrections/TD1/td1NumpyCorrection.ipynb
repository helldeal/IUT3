{
 "cells": [
  {
   "cell_type": "markdown",
   "metadata": {},
   "source": [
    "# <center>TD1 de modèlisation Mathématique: *numpy*</center>\n",
    "\n",
    "Nous allons dans ce premier TD voir (ou revoir) certaines bibliothèques *python* que nous utiliserons sans modèration pour développer nos applications d'apprentissage automatique.\n",
    "\n",
    "Nous allons d'abord étudier *numpy*.\n",
    "\n",
    "## La bibliothèque Numpy\n",
    "\n",
    "Vous allez utiliser ce [tutoriel](https://thedatafrog.com/fr/articles/numpy-crash-course-machine-learning/) pour apprendre à utiliser *numpy*.\n",
    "\n",
    "Voici 2 liens [numpy](https://www.python-simple.com/python-numpy/creation-numpy.php) et [numpy en anglais](https://sites.engineering.ucsb.edu/%7Eshell/che210d/numpy.pdf) qui vous seront utiles pour l'utilisation de *numpy*\n",
    "\n",
    "\n",
    "Un autre lien en anglais => https://numpy.org/doc/stable/user/absolute_beginners.html\n",
    "\n",
    "\n",
    "### 1) Exercice 1\n",
    "\n",
    "**Pourquoi utiliser numpy ? ben c'est rapide !**\n",
    "\n",
    "Vous devez écrire deux objets python:\n",
    "- une liste python nommée *liste* de 1 million d'entier\n",
    "- un tableau numpy nommé *tableau* qui contiendra la liste précèdente.  \n",
    "\n",
    "Faire afficher *tableau*"
   ]
  },
  {
   "cell_type": "code",
   "execution_count": null,
   "metadata": {},
   "outputs": [],
   "source": [
    "import numpy as np\n",
    "#TODO\n",
    "liste = range(1000000)\n",
    "tableau = np.array(liste)\n",
    "tableau"
   ]
  },
  {
   "cell_type": "markdown",
   "metadata": {},
   "source": [
    "On va maintenant calculer le carré de tous les éléments de *liste* en affichant le temps de traitement."
   ]
  },
  {
   "cell_type": "code",
   "execution_count": null,
   "metadata": {},
   "outputs": [],
   "source": [
    "#%timeit affiche le temps d'exécution de l'expression qui le suit. Exemple: %timeit a=3**2\n",
    "#TODO\n",
    "%timeit listeCarre = [x**2 for x in liste]"
   ]
  },
  {
   "cell_type": "markdown",
   "metadata": {},
   "source": [
    "On va maintenant calculer le carré de tous les éléments de *tableau* en affichant le temps de traitement (même boucle que précédemment). "
   ]
  },
  {
   "cell_type": "code",
   "execution_count": null,
   "metadata": {},
   "outputs": [],
   "source": [
    "#TODO\n",
    "%timeit tableauCarre = [x**2 for x in tableau] "
   ]
  },
  {
   "cell_type": "markdown",
   "metadata": {},
   "source": [
    "On peut faire beaucoup mieux avec les tableaux *numpy*.  \n",
    "On va maintenant calculer le carré de tous les éléments de *tableau* en affichant le temps de traitement mais sans boucle.  \n",
    "Vous allez être agréablement surpris(e)"
   ]
  },
  {
   "cell_type": "code",
   "execution_count": null,
   "metadata": {},
   "outputs": [],
   "source": [
    "#TODO\n",
    "%timeit tableauCarre = tableau**2"
   ]
  },
  {
   "cell_type": "markdown",
   "metadata": {},
   "source": [
    "> ***Conclusion***\n",
    "> - Il faut utiliser les tableaux numpy plutôt que les listes python\n",
    "> - surtout ne pas itèrer directement sur ces tableaux.\n"
   ]
  },
  {
   "cell_type": "markdown",
   "metadata": {},
   "source": [
    "### 2) Exercice 2 (sans boucle)\n",
    "\n",
    "- Créer un tableau de 10 entiers aléatoires choisis entre 1 et 50 (50 exclus)\n",
    "- visualiser le tableau\n",
    "- Afficher le troisième élément du tableau.\n",
    "- Afficher le quatrième et le cinquième élement\n",
    "- Afficher les trois derniers éléments du tableau.\n",
    "- afficher tous les éléments du tableau sauf les deux premiers.\n",
    "- Afficher les éléments qui sont en position paire\n",
    "- Afficher les éléments du tableau inversé\n",
    "- Afficher les éléments qui sont en position paire en inversant le tableau\n",
    " \n",
    "\n",
    "- Créer un tableau de 2 lignes et 3 colonnes contenat des nombres d'une distribution gaussienne standard\n",
    "- Afficher le tableau et son nombre de ligne et de colonne\n",
    "- Afficher la première ligne de valeurs\n",
    "- Afficher la 3ème colonne de valeurs\n",
    "- Transformer le tableau en un tableau 3 lignes et 2 colonnes\n",
    "- Transformer le tableau en un tableau à une dimension\n"
   ]
  },
  {
   "cell_type": "code",
   "execution_count": null,
   "metadata": {},
   "outputs": [],
   "source": [
    "import numpy as np\n",
    "\n",
    "data=np.random.randint(1, 50, 10)\n",
    "#data = np.array([11, 22, 33, 44, 55, 66, 77, 88, 99])\n",
    "print(data)\n",
    "\n",
    "# Afficher le troisième élément du tableau.\n",
    "print(data[2])\n",
    "\n",
    "#Afficher le quatrième et le cinquième élement\n",
    "print(data[3:5])\n",
    "\n",
    "# Afficher les trois derniers éléments du tableau.\n",
    "print(data[-3:])\n",
    "\n",
    "#afficher tous les éléments du tableau sauf les deux premiers.\n",
    "print(data[2:])\n",
    "\n",
    "#Afficher les éléments qui sont en position paire\n",
    "print(data[::2])\n",
    "\n",
    "#Afficher les éléments du tableau inversé\n",
    "print(data[::-1])\n",
    "\n",
    "#Afficher les éléments qui sont en position paire en inversant le tableau\n",
    "print((data[::2])[::-1])\n",
    "\n",
    "\n",
    "\n",
    "\n",
    "\n",
    "#Créer un tableau de 2 lignes et 3 colonnes contenant des nombres d'une distribution gaussienne standard\n",
    "matrice=np.random.randn(2,3)\n",
    "\n",
    "#Afficher le tableau et son nombre de ligne et de colonne\n",
    "print(matrice)\n",
    "print(matrice.shape)\n",
    "\n",
    "#Afficher la première ligne de valeurs\n",
    "print(matrice[0,:])\n",
    "\n",
    "#Afficher la 3ème colonne de valeurs\n",
    "print(matrice[:,2])\n",
    "\n",
    "#Transformer le tableau en un tableau 3 lignes et 2 colonnes\n",
    "print(matrice.reshape(3,2))\n",
    "\n",
    "#Transformer le tableau en un tableau à une dimension\n",
    "print(matrice.ravel())\n",
    "\n",
    "\n"
   ]
  },
  {
   "cell_type": "markdown",
   "metadata": {},
   "source": [
    "### 3) Exercice 3\n",
    "\n",
    "Supposons que vous ayez le tableau suivant représentant les ventes quotidiennes d'un produit pour une semaine (7 jours) :  \n",
    "\n",
    "> daily_sales = [120, 80, 150, 200, 90, 110, 160]  \n",
    "\n",
    "Sans faire de boucle et en utilisant exclusivement des fonctions dédiées de *numpy*\n",
    "\n",
    "- calculer la somme totale des ventes pour la semaine.\n",
    "- calculer la moyenne des ventes quotidiennes.\n",
    "- trouver le jour avec le plus grand nombre de ventes."
   ]
  },
  {
   "cell_type": "code",
   "execution_count": 30,
   "metadata": {},
   "outputs": [],
   "source": [
    "import numpy as np\n",
    "\n",
    "#TODO\n",
    "\n",
    "daily_sales = np.array([120, 80, 150, 200, 90, 110, 160])\n",
    "\n",
    "# Calculer la somme totale des ventes pour la semaine.\n",
    "total_sales = np.sum(daily_sales)\n",
    "\n",
    "# Calculer la moyenne des ventes quotidiennes.\n",
    "average_sales = np.mean(daily_sales)\n",
    "\n",
    "# Trouver le jour avec le plus grand nombre de ventes.\n",
    "max_sales_day = np.argmax(daily_sales) + 1  # l'indice des tableaux commencent à 0"
   ]
  },
  {
   "cell_type": "markdown",
   "metadata": {},
   "source": [
    "### 4) D'autres spécificités de *numpy*\n",
    "\n",
    "les exercices qui suivent ont été repris de ce [tutoriel](https://thedatafrog.com/fr/articles/numpy-crash-course-machine-learning/).\n",
    "\n",
    "Nous allons travailler avec le jeu de données *MNIST* qui sont ici simplifiées. Ce sont des images de chiffres écrits manuellement qui ont été beaucoup utilisées pour mettre au point et tester des algorithmes de reconnaissance automatique d'écriture manuscrite. Le package *scikit-learn* que nous utiliserons plus tard donne accès directement à ces données."
   ]
  },
  {
   "cell_type": "code",
   "execution_count": null,
   "metadata": {},
   "outputs": [],
   "source": [
    "#chargement de scikit-learn et des données MNIST\n",
    "from sklearn import datasets\n",
    "digits = datasets.load_digits()\n",
    "print(\"affichage des spécificités de ce jeu de donnée\")\n",
    "print( type(digits) ) \n",
    "print( dir(digits) )\n",
    "print(\"affichage du type des attributs images et target\")\n",
    "print( type(digits.images) )\n",
    "print( type(digits.target) )\n",
    "print(\"target: les chiffres associés\")\n",
    "print(digits.target)\n",
    "print(\"affichage de la forme de ces 2 tableaux numpy\")\n",
    "print( \"shape du tableau images:\",digits.images.shape)\n",
    "print( \"shape du tableau target:\",digits.target.shape)"
   ]
  },
  {
   "cell_type": "markdown",
   "metadata": {},
   "source": [
    "#### Exercice 1\n",
    "\n",
    "- D'après l'affichage précédent, combien d'exemples avez-vous dans le jeu de données?  \n",
    "- Quelle est la taille des images en pixels ?  \n",
    "- Quelle est la valeur min et la valeur max des pixels ?\n",
    "\n",
    "- afficher les données relatives à la dixième image (dans l'attribut images) et à la dixième étiquette (dans l'attribut target)\n",
    "- afficher l'image\n",
    "> *import matplotlib.pyplot as plt*  \n",
    "> *plt.imshow(**image**)*\n"
   ]
  },
  {
   "cell_type": "code",
   "execution_count": null,
   "metadata": {},
   "outputs": [],
   "source": [
    "#TODO\n",
    "# 1797 exemples\n",
    "# taille => 8X8\n",
    "# 1 pixel => 0 - 256 mais ils ont été ramené sur 16\n",
    "import matplotlib.pyplot as plt\n",
    "import numpy as np\n",
    "print(digits.images[10])\n",
    "#pas terrible car normalisé\n",
    "plt.imshow(digits.images[10])\n",
    "print(digits.target[10])"
   ]
  },
  {
   "cell_type": "markdown",
   "metadata": {},
   "source": [
    "#### Exercice 2\n",
    "\n",
    "Les modèles de *scikit-learn* attendent un tableau 1D d'étiquettes, comme celui que nous avons ici. Mais d'autres modèles comme *Keras* ou *Tensorflow* attendent un vecteur colonne d'étiquettes. Convertissez le tableau d'étiquettes en un tableau comportant une seule colonne.\n"
   ]
  },
  {
   "cell_type": "code",
   "execution_count": null,
   "metadata": {},
   "outputs": [],
   "source": [
    "#TODO\n",
    "etiquette1D=np.c_[digits.target]\n",
    "print(digits.target)\n",
    "print(etiquette1D)\n",
    "print(etiquette1D.shape)\n"
   ]
  },
  {
   "cell_type": "markdown",
   "metadata": {},
   "source": [
    "### 5) Pour aller plus loin\n",
    "\n",
    "#### Exercice 1:\n",
    "\n",
    "La précision est une mesure de la performance des algorithmes de classification.  \n",
    "Elle définit la probabilité de bien classer un exemple et est calculée comme suit:\n",
    "\n",
    "précision = $1 - \\dfrac{M}{N}$\n",
    "\n",
    "où *N* est le nombre total d'exemples et *M* le nombre d'exemples mal classés.\n",
    "\n",
    "Supposons que nous travaillons toujours sur l'ensemble de données de chiffres manuscrits MNIST et que l'ensemble de données de test contient 10 exemples, avec les étiquettes suivantes :\n",
    "\n",
    "- Calculer la précision en pourcentage.  Aucune boucle n'est autorisée.  \n",
    "Les ensembles sont données ci-dessous:"
   ]
  },
  {
   "cell_type": "code",
   "execution_count": null,
   "metadata": {},
   "outputs": [],
   "source": [
    "import numpy as np \n",
    "\n",
    "#true_labels contient les nombres qui ont été écrits\n",
    "true_labels = np.array([0, 1, 2, 3, 4, 5, 6, 7, 8, 9])\n",
    "print(true_labels)\n",
    "#result contient les chiffres qui ont été prédits par la système de reconnaissance\n",
    "results = np.array([0, 1, 2, 9, 4, 5, 6, 1, 8, 9])\n",
    "print(results)\n",
    "#TODO\n",
    "N=true_labels.size\n",
    "vecteurM=true_labels[true_labels!=results]\n",
    "M=vecteurM.size\n",
    "print(M)\n",
    "mask=(true_labels!=results)\n",
    "\n",
    "print(mask)\n",
    "vecteurMask=true_labels[mask]\n",
    "print(vecteurMask)\n",
    "print(vecteurMask.size)\n",
    "M1=vecteurMask.size\n",
    "precision=1-(M/N)\n",
    "precision\n"
   ]
  },
  {
   "cell_type": "markdown",
   "metadata": {},
   "source": [
    "#### Exercice 2: redimensionnement des niveaux de gris de l'image¶\n",
    "\n",
    "Les réseaux de neurones n'aiment pas les grands nombres.\n",
    "\n",
    "Donc, généralement, les entrées du réseau de neurones sont redimensionnées pour être de l'ordre de l'unité avant d'être transmises au réseau.\n",
    "\n",
    "    - quel est le plus grand niveau de gris que l'on puisse trouver dans digits.image ? \n",
    "    - redimensionnez l'ensemble de données de sorte que le plus grand nombre soit 1.  \n",
    "\n",
    "    Vérifiez vos résultats. Aucune boucle n'est autorisée !\n"
   ]
  },
  {
   "cell_type": "code",
   "execution_count": null,
   "metadata": {},
   "outputs": [],
   "source": [
    "#TODO plus grand nombre\n",
    "max=np.max(digits.images)\n",
    "\n",
    "# normalisation de l'image avec plus grand nombre à 1\n",
    "\n",
    "norma=digits.images/max\n",
    "\n",
    "print(norma)\n",
    "\n",
    "\n"
   ]
  },
  {
   "cell_type": "markdown",
   "metadata": {},
   "source": [
    "#### Exercice 3: Standardiser les entrées d'un modèle\n",
    "\n",
    "\n",
    "Il est courant de normaliser les données d'entrée d'un modèle. Les données sont donc exprimées avec le même facteur d'échelle ce qui facilite (améliore) les performances des algorithmes d'apprentissage.\n",
    "La solution la plus souvent utilisée est de centrer la moyenne sur 0 et de ramener l'écart type à 1.\n",
    "\n",
    "- commencez par construire le jeu de données que nous standardiserons ensuite. \n",
    "\n"
   ]
  },
  {
   "cell_type": "code",
   "execution_count": null,
   "metadata": {},
   "outputs": [],
   "source": [
    "import numpy as np\n",
    "#génération des deux ensembles X et Y de données qui comprennent \n",
    "# 1000 entiers définis de manière aléatoire  \n",
    "\n",
    "X = np.random.randint(5, 100 ,1000)\n",
    "Y = np.random.randint(10, 67, 1000)\n",
    "\n",
    "#TODO\n",
    "# on crée le tableau *dataset* de 2 colonnes avec X première colonne et Y seconde colonne (concatènation)\n",
    "dataset = np.c_[X, Y]\n",
    "#affichage des dimensions (shape) de *dataset*\n",
    "print(dataset.shape)\n",
    "dataset\n",
    "\n",
    "#affichage de la moyenne et de l'écart type de chaque colonne:\n",
    "print(np.mean(dataset, axis=0))\n",
    "print(np.std(dataset, axis=0))\n",
    "\n",
    "\n",
    "#normalisation: \n",
    "# on soustrait à chaque valeur la moyenne des données dans la colonne\n",
    "#  et on divise par l'écart type des données dans la colonne\n",
    "dataset_normalized=(dataset - np.mean(dataset, axis=0))/np.std(dataset, axis=0)\n",
    "print(dataset_normalized)\n",
    "\n"
   ]
  }
 ],
 "metadata": {
  "kernelspec": {
   "display_name": "base",
   "language": "python",
   "name": "python3"
  },
  "language_info": {
   "codemirror_mode": {
    "name": "ipython",
    "version": 3
   },
   "file_extension": ".py",
   "mimetype": "text/x-python",
   "name": "python",
   "nbconvert_exporter": "python",
   "pygments_lexer": "ipython3",
   "version": "3.9.13"
  },
  "orig_nbformat": 4
 },
 "nbformat": 4,
 "nbformat_minor": 2
}
