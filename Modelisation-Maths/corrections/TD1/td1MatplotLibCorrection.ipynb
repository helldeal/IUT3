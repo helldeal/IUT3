{
 "cells": [
  {
   "cell_type": "markdown",
   "metadata": {},
   "source": [
    "# <center>TD1 Modèlisation Mathématique: *matplotlib* </center>\n",
    "\n",
    "\n",
    "Nous allons ici travailler avec la bibliothèque python *matplotlib* que nous allons beaucoup utiliser. En effet, avant de faire le choix d'un algorithme de machine learning pour traiter nos données, il faut les visualiser afin d'avoir déjà une idée des relations potentiellement existantes entre celles-ci. Vous pouvez vous aider de ce [tutoriel](http://www.python-simple.com/python-matplotlib/pyplot.php)\n",
    "\n",
    "Pour créer des graphiques vous pouvez utiliser une approche orientée objet ou non objet. Nous allons utiliser la seconde méthode.\n",
    "\n",
    "### EXERCICE 1:\n",
    "\n",
    "- Créer 2 jeux de données dans des tableaux *numpy* nommés X et Y de dimension 10. le premier sera composé d'entiers consécutifs entre 1 et 4 uniformément espacés, Le second sera composé des carrés des précédents. \n",
    "- Le graphique à afficher aura en abscisse les données de X et en ordonnée les données de Y. Le graphique aura un titre => \"Représentation de 2 fonctions\". Les 2 axes auront un label qui leur sont associés, la courbe sera tracée en rouge, le trait aura une épaisseur de 2 et sera en trait plein, chaque point de la courbe sera visible avec un marqueur en forme de rond d'une taille de 10 et entouré de bleu.\n",
    "- Rajouter la courbe f(x)=2x+3 sur le graphique. la ligne tracée sera en pointillé et de couleur verte. \n",
    "- Ajouter des légendes pour les 2 courbes.\n",
    "\n",
    "Voici le rendu attendu:\n",
    "\n",
    "<p align=\"center\">\n",
    "<img src=\"images/exo1Fig1.png\" />\n",
    "</p>\n",
    "\n",
    "\n",
    "\n"
   ]
  },
  {
   "cell_type": "code",
   "execution_count": null,
   "metadata": {},
   "outputs": [],
   "source": [
    "import numpy as np\n",
    "import matplotlib.pyplot as plt\n",
    "\n",
    "\n",
    "#un tableau qui comprend 10 points entre 0 et 4 équidistants\n",
    "x=np.linspace(0,4,10)\n",
    "# y: le carré du premier\n",
    "y=x**2\n",
    "#pour donner une dimension à la figure. attention en inch\n",
    "#plt.figure(figsize=(12,8))\n",
    "\n",
    "plt.plot(x,y, marker=\"o\", color=\"red\", ms=10, mec=\"blue\", label=\"fonction carré\")\n",
    "\n",
    "plt.xlabel(\"axe x\")\n",
    "plt.ylabel(\"axe y\")\n",
    "plt.title(\"Représentation de 2 fonctions\")\n",
    "\n",
    "plt.plot(x,2*x+3, linestyle='dashed', color=\"green\",label=\"f(x)=2x+3\")\n",
    "plt.legend()\n",
    "#plt.savefig('images/exo1Fig1.png')\n"
   ]
  },
  {
   "cell_type": "markdown",
   "metadata": {},
   "source": [
    "- tracer les 2 graphiques séparément avec un titre général et 2 titres sur les 2 graphiques, les 2 graphiques sont côte à côte  \n",
    "  \n",
    "  Voici le rendu attendu:\n",
    "\n",
    "<p align=\"center\">\n",
    "<img src=\"images/exo1Fig2.png\" />\n",
    "</p>\n",
    "  \n"
   ]
  },
  {
   "cell_type": "code",
   "execution_count": null,
   "metadata": {},
   "outputs": [],
   "source": [
    "import numpy as np\n",
    "import matplotlib.pyplot as plt\n",
    "\n",
    "x=np.linspace(0,4,10)\n",
    "y=x**2\n",
    "# ajout pour le graphique\n",
    "plt.subplot(1, 2, 1)\n",
    "plt.plot(x,y, marker=\"o\", color=\"red\", ms=10, mec=\"blue\")\n",
    "plt.xlabel(\"axe x\")\n",
    "plt.ylabel(\"axe y\")\n",
    "plt.title(\" fonction carré\")\n",
    "plt.subplot(1, 2, 2)\n",
    "plt.plot(x,2*x+3, color=\"green\", linestyle=\"dashed\")\n",
    "plt.xlabel(\"axe x\")\n",
    "plt.ylabel(\"axe y\")\n",
    "plt.title(\"f(x)=2*x+3\")\n",
    "plt.suptitle(\"Représentation de 2 fonctions\")\n",
    "plt.tight_layout()\n",
    "plt.savefig('images/exo1Fig2.png')"
   ]
  },
  {
   "cell_type": "markdown",
   "metadata": {},
   "source": [
    "- Maintenant les 2 graphiques sont disposés l'un au dessus de l'autre. Vous pouvez utiliser *plt.tight_layout()*  pour que les graphiques ne se chevauchent pas.\n",
    "- sauvegarder le graphique obtenu dans votre répertoire de travail (graphique.png)    \n",
    "  \n",
    "Voici le rendu attendu:\n",
    "<p align=\"center\">\n",
    "<img src=\"images/exo1Fig3.png\" />\n",
    "</p>\n"
   ]
  },
  {
   "cell_type": "code",
   "execution_count": null,
   "metadata": {},
   "outputs": [],
   "source": [
    "import numpy as np\n",
    "import matplotlib.pyplot as plt\n",
    "\n",
    "\n",
    "x=np.linspace(0,4,10)\n",
    "y=x**2\n",
    "# ajout pour le graphique\n",
    "plt.subplot(2, 1, 1)\n",
    "plt.plot(x,y, marker=\"o\", color=\"red\", ms=10, mec=\"blue\")\n",
    "plt.xlabel(\"axe x\")\n",
    "plt.ylabel(\"axe y\")\n",
    "plt.title(\" fonction carré\")\n",
    "plt.subplot(2, 1, 2)\n",
    "plt.plot(x,2*x+3, color=\"green\", linestyle=\"dashed\")\n",
    "plt.xlabel(\"axe x\")\n",
    "plt.ylabel(\"axe y\")\n",
    "plt.title(\"f(x)=2*x+3\")\n",
    "plt.suptitle(\"Représentation de 2 fonctions\")\n",
    "plt.tight_layout()\n",
    "\n",
    "plt.savefig('exo1Fig3.png')"
   ]
  },
  {
   "cell_type": "markdown",
   "metadata": {},
   "source": [
    "### EXERCICE 2\n",
    "\n",
    "Nous allons utiliser un ensemble de données nommé *Iris* qui sont des données relatives à cette fleur. Les données comprennent 150 individus et sont séparées en 2 ensembles. Dans le premier ensemble, un individu est représenté par un t_uple qui correspond à la longueur du sépale, la largeur du sépale, la longueur du pétale et à la largeur du pétale. Le second ensemble est complémentaire du premier. Ils donnent dans chaque ligne, le type d'iris correspondant au t_uple du premier. Les types d'iris sont répartis en 3 classes: Setosa, Versicolor ou Virginica. Ce jeu de données est très souvent utilisé pour tester des algorithmes de classification. Le problème à résoudre est de prédire le second ensemble à l'aide du premier.\n",
    "Nous étudierons cette tâche plus tard, pour l'instant nous allons nous focaliser sur la représentation graphique des données. Ceci est très important en apprentissage automatique pour avoir une idée des corrélations éventuelles entre les différentes caractéristiques par exemple.\n",
    "\n",
    "\n",
    "1) Nous allons ici réaliser des graphiques pour étudier les données. Le premier ensemble comporte 4 caractéristiques que nous allons étudier 2 par 2 (graphique 2D). N'hésitez pas à étudier les données avant de les représenter (type, valeurs max ...). Vous manipulerez des tableaux numpy.  \n",
    "  \n",
    "Voici le graphique que vous devez reproduire (vous pouvez bien sûr choisir des couleurs de représentation à votre guise):\n",
    "\n",
    "<p align=\"center\">\n",
    "<img src=\"images/exo2Fig1.png\" />\n",
    "</p>"
   ]
  },
  {
   "cell_type": "code",
   "execution_count": null,
   "metadata": {},
   "outputs": [],
   "source": [
    "import numpy as np\n",
    "import matplotlib.pyplot as plt\n",
    "from sklearn.datasets import load_iris\n",
    "# chargement du dataset de fleur d'iris\n",
    "iris = load_iris()\n",
    "X = iris.data # X contient 150 échantillons, 4 variables caractéristiques\n",
    "Y = iris.target # y contient 150 échantillons, 3 classes\n",
    "print(Y[:])\n",
    "\n",
    "#TODO\n",
    " \n",
    "# création d'une boucle for pour afficher tous les graphiques\n",
    "# nombre de colonne\n",
    "n = X.shape[1]\n",
    "labelAxis=[\"longueur sepale\", \"largeur sepale\", \"longueur petale\", \"largeur petale\" ]\n",
    "plt.figure(figsize=(12, 8))\n",
    "for i in range(1,n):\n",
    "    plt.subplot(n//2, n//2, i)\n",
    "    # on affiche la colonne 0 en fonction des autres colonnes, matplotlib génère 3 couleurs\n",
    "    plt.scatter(X[:, 0], X[:, i], c=Y) # affiche la variable i en fonction de la variable 0\n",
    "    plt.xlabel(labelAxis[0])\n",
    "    plt.ylabel(labelAxis[i])\n",
    "    plt.colorbar(ticks=list(np.unique(Y)))\n",
    "\n",
    "plt.suptitle(\"Représentation du dataset IRIS\")\n",
    "plt.savefig(\"images/exo2Fig1.png\")"
   ]
  },
  {
   "cell_type": "markdown",
   "metadata": {},
   "source": [
    "2) réaliser des histogrammes pour visualiser la répartition des données dans le premier ensemble\n",
    "3) réaliser un camembert pour visualiser la répartition des différents types d'iris.\n",
    "\n",
    "Voici le graphique final qui est demandé:  \n",
    "\n",
    "<p align=\"center\">\n",
    "<img src=\"images/exo2Fig2.png\" />\n",
    "</p>\n"
   ]
  },
  {
   "cell_type": "code",
   "execution_count": null,
   "metadata": {},
   "outputs": [],
   "source": [
    "import numpy as np\n",
    "import matplotlib.pyplot as plt\n",
    "from sklearn.datasets import load_iris\n",
    "# chargement du dataset de fleur d'iris\n",
    "iris = load_iris()\n",
    "X = iris.data # X contient 150 échantillons, 4 variables ()\n",
    "Y = iris.target # y contient 150 échantillons, 3 classes\n",
    " \n",
    "# création d'une boucle for pour afficher tous les graphiques\n",
    "# nombre de colonne\n",
    "n = X.shape[1]\n",
    "labelAxis=[\"longueur sepale\", \"largeur sepale\", \"longueur petale\", \"largeur petale\" ]\n",
    "plt.figure(figsize=(12, 14))\n",
    "for i in range(n):\n",
    "    plt.subplot(3, 3, i+1)\n",
    "    plt.hist(X[:, i])\n",
    "    plt.ylabel(\"nombre\")\n",
    "    plt.xlabel(labelAxis[i])\n",
    "    \n",
    "\n",
    "plt.suptitle(\"Représentation du dataset IRIS\")\n",
    "plt.tight_layout()\n",
    "\n",
    "targetCounts=np.bincount(Y)\n",
    "plt.subplot(3, 3, 5)\n",
    "plt.pie(targetCounts, labels=['Setosa','Versicolor','Virginica'], autopct = lambda x: str(round(x, 2)) + '%')\n",
    "plt.title(\"Répartition des iris\")\n",
    "#plt.savefig(\"images/exo2Fig2.png\")"
   ]
  }
 ],
 "metadata": {
  "kernelspec": {
   "display_name": "base",
   "language": "python",
   "name": "python3"
  },
  "language_info": {
   "codemirror_mode": {
    "name": "ipython",
    "version": 3
   },
   "file_extension": ".py",
   "mimetype": "text/x-python",
   "name": "python",
   "nbconvert_exporter": "python",
   "pygments_lexer": "ipython3",
   "version": "3.9.13"
  },
  "orig_nbformat": 4
 },
 "nbformat": 4,
 "nbformat_minor": 2
}
