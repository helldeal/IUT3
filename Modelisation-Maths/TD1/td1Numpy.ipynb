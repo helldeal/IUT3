{
 "cells": [
  {
   "cell_type": "markdown",
   "metadata": {},
   "source": [
    "# <center>TD1 de modèlisation Mathématique: *numpy*</center>\n",
    "\n",
    "Nous allons dans ce premier TD voir (ou revoir) certaines bibliothèques *python* que nous utiliserons sans modèration pour développer nos applications d'apprentissage automatique.\n",
    "\n",
    "Nous allons d'abord étudier *numpy*.\n",
    "\n",
    "## La bibliothèque Numpy\n",
    "\n",
    "Vous allez utiliser ce [tutoriel](https://thedatafrog.com/fr/articles/numpy-crash-course-machine-learning/) pour apprendre à utiliser *numpy*.\n",
    "\n",
    "Voici 2 liens [numpy](https://www.python-simple.com/python-numpy/creation-numpy.php) et [numpy en anglais](https://sites.engineering.ucsb.edu/%7Eshell/che210d/numpy.pdf) qui vous seront utiles pour l'utilisation de *numpy*\n",
    "\n",
    "Un autre lien en anglais => https://numpy.org/doc/stable/user/absolute_beginners.html\n",
    "²\n",
    "\n",
    "### 1) Exercice 1\n",
    "\n",
    "**Pourquoi utiliser numpy ? ben c'est rapide !**\n",
    "\n",
    "Vous devez écrire deux objets python:\n",
    "- une liste python nommée *liste* de 1 million d'entier\n",
    "- un tableau numpy nommé *tableau* qui contiendra la liste précèdente.  \n",
    "\n",
    "Faire afficher *tableau*"
   ]
  },
  {
   "cell_type": "code",
   "execution_count": 1,
   "metadata": {},
   "outputs": [
    {
     "name": "stdout",
     "output_type": "stream",
     "text": [
      "[      1       2       3 ...  999998  999999 1000000]\n"
     ]
    }
   ],
   "source": [
    "import numpy as np\n",
    "\n",
    "liste = list(range(1, 1000001))\n",
    "tableau = np.array(liste)\n",
    "print(tableau)\n"
   ]
  },
  {
   "cell_type": "markdown",
   "metadata": {},
   "source": [
    "On va maintenant calculer le carré de tous les éléments de *liste* en affichant le temps de traitement."
   ]
  },
  {
   "cell_type": "code",
   "execution_count": 3,
   "metadata": {},
   "outputs": [
    {
     "name": "stdout",
     "output_type": "stream",
     "text": [
      "120 ms ± 3.24 ms per loop (mean ± std. dev. of 7 runs, 10 loops each)\n"
     ]
    }
   ],
   "source": [
    "#%timeit affiche le temps d'exécution de l'expression qui le suit. Exemple: %timeit a=3**2\n",
    "\n",
    "%timeit listeCarre = [x**2 for x in liste]"
   ]
  },
  {
   "cell_type": "markdown",
   "metadata": {},
   "source": [
    "On va maintenant calculer le carré de tous les éléments de *tableau* en affichant le temps de traitement (même boucle que précédemment). "
   ]
  },
  {
   "cell_type": "code",
   "execution_count": 9,
   "metadata": {},
   "outputs": [
    {
     "name": "stdout",
     "output_type": "stream",
     "text": [
      "2.72 ms ± 174 µs per loop (mean ± std. dev. of 7 runs, 100 loops each)\n"
     ]
    }
   ],
   "source": [
    "%timeit listeCarre = tableau**2"
   ]
  },
  {
   "cell_type": "markdown",
   "metadata": {},
   "source": [
    "On peut faire beaucoup mieux avec les tableaux *numpy*.  \n",
    "On va maintenant calculer le carré de tous les éléments de *tableau* en affichant le temps de traitement mais sans boucle.  \n",
    "Vous allez être agréablement surpris(e)"
   ]
  },
  {
   "cell_type": "code",
   "execution_count": 10,
   "metadata": {},
   "outputs": [
    {
     "name": "stdout",
     "output_type": "stream",
     "text": [
      "191 ms ± 12.4 ms per loop (mean ± std. dev. of 7 runs, 1 loop each)\n"
     ]
    }
   ],
   "source": [
    "%timeit [x**2 for x in tableau]\n"
   ]
  },
  {
   "cell_type": "markdown",
   "metadata": {},
   "source": [
    "> ***Conclusion***\n",
    "> - Il faut utiliser les tableaux numpy plutôt que les listes python\n",
    "> - surtout ne pas itèrer directement sur ces tableaux.\n"
   ]
  },
  {
   "cell_type": "markdown",
   "metadata": {},
   "source": [
    "### 2) Exercice 2 (sans boucle)\n",
    "\n",
    "- Créer un tableau de 10 entiers aléatoires choisis entre 1 et 50 (50 exclus)\n",
    "- visualiser le tableau\n",
    "- Afficher le troisième élément du tableau.\n",
    "- Afficher les quatrième et cinquième élements\n",
    "- Afficher les trois derniers éléments du tableau.\n",
    "- afficher tous les éléments du tableau sauf les deux premiers.\n",
    "- Afficher les éléments qui sont en position paire\n",
    "- Afficher les éléments du tableau inversé\n",
    "- Afficher les éléments qui sont en position paire en inversant le tableau\n",
    "   \n",
    "\n",
    "- Créer un tableau de 2 lignes et 3 colonnes contenant des nombres d'une distribution gaussienne standard\n",
    "- Afficher le tableau et son nombre de ligne et de colonne\n",
    "- Afficher la première ligne de valeurs\n",
    "- Afficher la 3ème colonne de valeurs\n",
    "- Transformer le tableau en un tableau 3 lignes et 2 colonnes\n",
    "- Transformer le tableau en un tableau à une dimension\n"
   ]
  },
  {
   "cell_type": "code",
   "execution_count": 14,
   "metadata": {},
   "outputs": [
    {
     "name": "stdout",
     "output_type": "stream",
     "text": [
      "Tableau d'entiers aléatoires : [30 20 36 28 38 25 41 21 28 29]\n",
      "Troisième élément du tableau : 36\n",
      "Quatrième et cinquième éléments du tableau : [28 38]\n",
      "Trois derniers éléments du tableau : [21 28 29]\n",
      "Tous les éléments sauf les deux premiers : [36 28 38 25 41 21 28 29]\n",
      "Éléments en position paire : [30 36 38 41 28]\n",
      "Tableau inversé : [29 28 21 41 25 38 28 36 20 30]\n",
      "Éléments en position paire inversés : [29 21 25 28 20]\n",
      "Tableau gaussien :\n",
      " [[-0.1489759   1.07455154 -0.82609155]\n",
      " [-0.02710222  1.34047557  0.90502282]]\n",
      "Nombre de lignes et de colonnes : (2, 3)\n",
      "Première ligne de valeurs : [-0.1489759   1.07455154 -0.82609155]\n",
      "Troisième colonne de valeurs : [-0.82609155  0.90502282]\n",
      "Tableau 3x2 :\n",
      " [[-0.1489759   1.07455154]\n",
      " [-0.82609155 -0.02710222]\n",
      " [ 1.34047557  0.90502282]]\n",
      "Tableau à une dimension : [-0.1489759   1.07455154 -0.82609155 -0.02710222  1.34047557  0.90502282]\n"
     ]
    }
   ],
   "source": [
    "import numpy as np\n",
    "\n",
    "tab = np.random.randint(1, 50, 10)\n",
    "print(\"Tableau d'entiers aléatoires :\", tab)\n",
    "print(\"Troisième élément du tableau :\", tab[2])\n",
    "print(\"Quatrième et cinquième éléments du tableau :\", tab[3:5])\n",
    "print(\"Trois derniers éléments du tableau :\", tab[-3:])\n",
    "print(\"Tous les éléments sauf les deux premiers :\", tab[2:])\n",
    "print(\"Éléments en position paire :\", tab[::2])\n",
    "print(\"Tableau inversé :\", tab[::-1])\n",
    "print(\"Éléments en position paire inversés :\", tab[::-2])\n",
    "gauss = np.random.randn(2, 3)\n",
    "print(\"Tableau gaussien :\\n\", gauss)\n",
    "print(\"Nombre de lignes et de colonnes :\", gauss.shape)\n",
    "print(\"Première ligne de valeurs :\", gauss[0, :])\n",
    "print(\"Troisième colonne de valeurs :\", gauss[:, 2])\n",
    "gaussReshape = gauss.reshape(3, 2)\n",
    "gaussFlat = gauss.flatten()\n",
    "print(\"Tableau 3x2 :\\n\", gaussReshape)\n",
    "print(\"Tableau à une dimension :\", gaussFlat)\n",
    "\n"
   ]
  },
  {
   "cell_type": "markdown",
   "metadata": {},
   "source": [
    "### 3) Exercice 3\n",
    "\n",
    "Supposons que vous ayez le tableau suivant représentant les ventes quotidiennes d'un produit pour une semaine (7 jours) :  \n",
    "\n",
    "> daily_sales = [120, 80, 150, 200, 90, 110, 160]  \n",
    "\n",
    "Sans faire de boucle et en utilisant exclusivement des fonctions dédiées de *numpy*\n",
    "\n",
    "- calculer la somme totale des ventes pour la semaine.  \n",
    "- calculer la moyenne des ventes quotidiennes.\n",
    "- trouver le jour avec le plus grand nombre de ventes."
   ]
  },
  {
   "cell_type": "code",
   "execution_count": 22,
   "metadata": {},
   "outputs": [
    {
     "name": "stdout",
     "output_type": "stream",
     "text": [
      "Somme totale des ventes pour la semaine : 910\n",
      "Moyenne des ventes quotidiennes : 130.0\n",
      "Jour avec le plus grand nombre de ventes (Jour 4) : 200\n"
     ]
    }
   ],
   "source": [
    "import numpy as np\n",
    "\n",
    "daily_sales = np.array([120, 80, 150, 200, 90, 110, 160] )\n",
    "\n",
    "print(\"Somme totale des ventes pour la semaine :\",daily_sales.sum())\n",
    "print(\"Moyenne des ventes quotidiennes :\",daily_sales.mean())\n",
    "print(f\"Jour avec le plus grand nombre de ventes (Jour {daily_sales.argmax()+1}) :\", daily_sales.max())\n",
    "\n"
   ]
  },
  {
   "cell_type": "markdown",
   "metadata": {},
   "source": [
    "### 4) Apprentissage des spécificités de *numpy*\n",
    "\n",
    "les exercices qui suivent ont été repris de ce [tutoriel](https://thedatafrog.com/fr/articles/numpy-crash-course-machine-learning/).\n",
    "\n",
    "Nous allons travailler avec le jeu de données *MNIST* qui sont ici simplifiées. Ce sont des images de chiffres écrits manuellement qui ont été beaucoup utilisées pour mettre au point et tester des algorithmes de reconnaissance automatique d'écriture manuscrite. Le package *scikit-learn* que nous utiliserons plus tard donne accès directement à ces données."
   ]
  },
  {
   "cell_type": "code",
   "execution_count": 23,
   "metadata": {},
   "outputs": [
    {
     "name": "stdout",
     "output_type": "stream",
     "text": [
      "affichage des spécificités de ce jeu de donnée\n",
      "<class 'sklearn.utils._bunch.Bunch'>\n",
      "['DESCR', 'data', 'feature_names', 'frame', 'images', 'target', 'target_names']\n",
      "affichage du type des attributs images et target\n",
      "<class 'numpy.ndarray'>\n",
      "<class 'numpy.ndarray'>\n",
      "target: les chiffres associés\n",
      "[0 1 2 ... 8 9 8]\n",
      "affichage de la forme de ces 2 tableaux numpy\n",
      "shape du tableau images: (1797, 8, 8)\n",
      "shape du tableau target: (1797,)\n"
     ]
    }
   ],
   "source": [
    "from sklearn import datasets\n",
    "#chargement de scikit-learn et des données MNIST\n",
    "digits = datasets.load_digits()\n",
    "print(\"affichage des spécificités de ce jeu de donnée\")\n",
    "print( type(digits) ) \n",
    "print( dir(digits) )\n",
    "print(\"affichage du type des attributs images et target\")\n",
    "print( type(digits.images) )\n",
    "print( type(digits.target) )\n",
    "print(\"target: les chiffres associés\")\n",
    "print(digits.target)\n",
    "print(\"affichage de la forme de ces 2 tableaux numpy\")\n",
    "print( \"shape du tableau images:\",digits.images.shape)\n",
    "print( \"shape du tableau target:\",digits.target.shape)"
   ]
  },
  {
   "cell_type": "markdown",
   "metadata": {},
   "source": [
    "#### Exercice 1\n",
    "D'après l'affichage précédent, combien d'exemples avez-vous dans le jeu de données?  \n",
    "Quelle est la taille des images en pixels ?  \n",
    "S'agit-il d'images en couleur ou en noir et blanc ?\n",
    "\n",
    "- afficher les données relatives à la dixième image (dans l'attribut images) et à la dixième étiquette (dans l'attribut target)\n",
    "- afficher l'image\n",
    "> *import matplotlib.pyplot as plt*  \n",
    "> *plt.imshow(**image**)*\n",
    "\n"
   ]
  },
  {
   "cell_type": "code",
   "execution_count": 39,
   "metadata": {},
   "outputs": [
    {
     "name": "stdout",
     "output_type": "stream",
     "text": [
      "Nombre d'exemples dans le jeu de données : 1797\n",
      "Taille des images en pixels : (8, 8)\n",
      "Nombre de canaux dans les images : 3\n",
      "Dixième image (matrice) :\n",
      " [[ 0.  0. 11. 12.  0.  0.  0.  0.]\n",
      " [ 0.  2. 16. 16. 16. 13.  0.  0.]\n",
      " [ 0.  3. 16. 12. 10. 14.  0.  0.]\n",
      " [ 0.  1. 16.  1. 12. 15.  0.  0.]\n",
      " [ 0.  0. 13. 16.  9. 15.  2.  0.]\n",
      " [ 0.  0.  0.  3.  0.  9. 11.  0.]\n",
      " [ 0.  0.  0.  0.  9. 15.  4.  0.]\n",
      " [ 0.  0.  9. 12. 13.  3.  0.  0.]]\n",
      "Dixième étiquette : 9\n"
     ]
    },
    {
     "data": {
      "image/png": "[encoded data removed]",
      "text/plain": [
       "<Figure size 640x480 with 1 Axes>"
      ]
     },
     "metadata": {},
     "output_type": "display_data"
    }
   ],
   "source": [
    "import matplotlib.pyplot as plt\n",
    "\n",
    "print(\"Nombre d'exemples dans le jeu de données :\", digits.images.shape[0])\n",
    "print(\"Taille des images en pixels :\", digits.images.shape[1:3])\n",
    "\n",
    "nombre_canaux = len(digits.images.shape)\n",
    "print(\"Nombre de canaux dans les images :\", nombre_canaux)\n",
    "\n",
    "dixieme_image = digits.images[9]\n",
    "dixieme_label = digits.target[9]\n",
    "print(\"Dixième image (matrice) :\\n\", dixieme_image)\n",
    "print(\"Dixième étiquette :\", dixieme_label)\n",
    "\n",
    "plt.imshow(dixieme_image)\n",
    "plt.title(f\"{dixieme_label}\")\n",
    "plt.show()\n"
   ]
  },
  {
   "cell_type": "markdown",
   "metadata": {},
   "source": [
    "#### Exercice 2\n",
    "\n",
    "Les modèles de *scikit-learn* attendent un tableau 1D d'étiquettes, comme celui que nous avons ici. Mais d'autres modèles comme *Keras* ou *Tensorflow* attendent un vecteur colonne d'étiquettes. Convertissez le tableau d'étiquettes en un tableau comportant une seule colonne.\n"
   ]
  },
  {
   "cell_type": "code",
   "execution_count": 46,
   "metadata": {},
   "outputs": [
    {
     "name": "stdout",
     "output_type": "stream",
     "text": [
      "Forme du tableau d'étiquettes avant conversion : (1797,)\n",
      "Forme du tableau d'étiquettes après conversion : (1797, 1)\n"
     ]
    }
   ],
   "source": [
    "import numpy as np\n",
    "\n",
    "# Tableau d'étiquettes\n",
    "etiquettes = digits.target\n",
    "\n",
    "# Convertir en un tableau avec une seule colonne (vecteur colonne)\n",
    "etiquettes_colonne = etiquettes.reshape(-1, 1)\n",
    "\n",
    "# Afficher la forme avant et après la conversion\n",
    "print(\"Forme du tableau d'étiquettes avant conversion :\", etiquettes.shape)\n",
    "print(\"Forme du tableau d'étiquettes après conversion :\", etiquettes_colonne.shape)\n"
   ]
  },
  {
   "cell_type": "markdown",
   "metadata": {},
   "source": [
    "### 5) Calcul de précision¶\n",
    "\n",
    "La précision est une mesure de la performance des algorithmes de classification.  \n",
    "Elle définit la probabilité de bien classer un exemple et est calculée comme suit:\n",
    "\n",
    "précision = $1 - \\dfrac{M}{N}$\n",
    "\n",
    "où *N* est le nombre total d'exemples et *M* le nombre d'exemples mal classés.\n",
    "\n",
    "\n",
    "Supposons que nous travaillons toujours sur l'ensemble de données de chiffres manuscrits MNIST et que l'ensemble de données de test contient 10 exemples.\n",
    "\n",
    "#### Exercice 1:\n",
    "\n",
    "Calculer la précision en pourcentage. Pour cela, notez que vous pouvez additionner toutes les entrées d'un tableau *numpy* *x* en écrivant *x.sum()*. Aucune boucle n'est autorisée.  \n",
    "Les ensembles sont données ci-dessous:\n",
    "\n"
   ]
  },
  {
   "cell_type": "code",
   "execution_count": 81,
   "metadata": {},
   "outputs": [
    {
     "name": "stdout",
     "output_type": "stream",
     "text": [
      "[0 1 2 9 4 5 6 1 8 9]\n",
      "La précision est de 80.0%.\n"
     ]
    }
   ],
   "source": [
    "import numpy as np \n",
    "\n",
    "true_labels = np.array([0, 1, 2, 3, 4, 5, 6, 7, 8, 9])\n",
    "#result contient les chiffres qui doivent être prédits par le système de reconnaissance\n",
    "results = np.array([0, 1, 2, 9, 4, 5, 6, 1, 8, 9])\n",
    "print(results)\n",
    "\n",
    "precision = (1 - ((results != true_labels).sum() / results.size)) * 100 \n",
    "print(f\"La précision est de {precision:}%.\")\n",
    "\n",
    "\n"
   ]
  },
  {
   "cell_type": "markdown",
   "metadata": {},
   "source": [
    "#### Exercice 2: redimensionnement des niveaux de couleur de l'image¶\n",
    "\n",
    "Certains algorithmes d'apprentissage comme les réseaux de neurones n'aiment pas les grands nombres.\n",
    "\n",
    "Donc, généralement, les entrées du réseau de neurones sont redimensionnées pour être de l'ordre de l'unité avant d'être transmises au réseau.\n",
    "\n",
    "- quel est le plus grand niveau de gris que l'on puisse trouver dans digits.image ? \n",
    "- redimensionnez l'ensemble de données de sorte que le plus grand nombre soit 1.  \n",
    "\n",
    "- Vérifiez vos résultats. Aucune boucle n'est autorisée !\n"
   ]
  },
  {
   "cell_type": "code",
   "execution_count": 90,
   "metadata": {},
   "outputs": [
    {
     "name": "stdout",
     "output_type": "stream",
     "text": [
      "Plus grand niveau de gris dans digits.images : 16.0\n",
      "Shape de digits_redimensionne : (1797, 8, 8)\n",
      "Maximum dans digits_redimensionne : 1.0\n",
      "[[0.     0.     0.3125 0.8125 0.5625 0.0625 0.     0.    ]\n",
      " [0.     0.     0.8125 0.9375 0.625  0.9375 0.3125 0.    ]\n",
      " [0.     0.1875 0.9375 0.125  0.     0.6875 0.5    0.    ]\n",
      " [0.     0.25   0.75   0.     0.     0.5    0.5    0.    ]\n",
      " [0.     0.3125 0.5    0.     0.     0.5625 0.5    0.    ]\n",
      " [0.     0.25   0.6875 0.     0.0625 0.75   0.4375 0.    ]\n",
      " [0.     0.125  0.875  0.3125 0.625  0.75   0.     0.    ]\n",
      " [0.     0.     0.375  0.8125 0.625  0.     0.     0.    ]]\n"
     ]
    }
   ],
   "source": [
    "import numpy as np\n",
    "\n",
    "print(\"Plus grand niveau de gris dans digits.images :\", np.max(digits.images))\n",
    "\n",
    "digits_redimensionne = digits.images / plus_grand_niveau_gris\n",
    "print(\"Shape de digits_redimensionne :\", digits_redimensionne.shape)\n",
    "\n",
    "print(\"Maximum dans digits_redimensionne :\", np.max(digits_redimensionne))\n",
    "\n",
    "print(digits_redimensionne[0])"
   ]
  },
  {
   "cell_type": "markdown",
   "metadata": {},
   "source": [
    "#### Exercice 3: Standardiser les entrées d'un modèle\n",
    "\n",
    "\n",
    "Il est courant de normaliser les données d'entrée d'un modèle. La solution la plus souvent utilisée est de centrer la moyenne sur 0 et de ramener l'écart type à 1.\n",
    "\n",
    "- commençons par construire un jeu de données avec 1000 exemples et deux variables suivant chacune une distribution de densité de probabilité gaussienne. Vous n'aurez plus qu'à remplir la cellule de code suivante pour réaliser ce qui est demandé.\n",
    "\n"
   ]
  },
  {
   "cell_type": "code",
   "execution_count": 100,
   "metadata": {},
   "outputs": [
    {
     "name": "stdout",
     "output_type": "stream",
     "text": [
      "Dimensions de dataset : (1000, 2)\n",
      "Moyenne de chaque colonne : 2.482247573797458\n",
      "Écart type de chaque colonne : 2.946803553889901\n",
      "Dimensions de dataset normalisé : (1000, 2)\n",
      "Moyenne de chaque colonne (normalisé) : [-0.85099926  0.85099926]\n",
      "Écart type de chaque colonne (normalisé) : [0.33069149 0.66501404]\n"
     ]
    }
   ],
   "source": [
    "import numpy as np\n",
    "\n",
    "# Génération des deux ensembles X et Y de données qui comprennent 1000 exemplaires.\n",
    "X = np.random.normal(loc=0, scale=1, size=1000)\n",
    "Y = np.random.normal(loc=5, scale=2, size=1000)\n",
    "\n",
    "# On crée le tableau dataset de 2 colonnes avec X première colonne et Y seconde colonne (concaténation)\n",
    "dataset = np.column_stack((X, Y))\n",
    "\n",
    "# Affichage des dimensions (shape) de dataset\n",
    "print(\"Dimensions de dataset :\", dataset.shape)\n",
    "\n",
    "# Affichage de la moyenne et de l'écart type de chaque colonne\n",
    "moyenne_colonne = np.mean(dataset)\n",
    "ecart_type_colonne = np.std(dataset)\n",
    "\n",
    "print(\"Moyenne de chaque colonne :\", moyenne_colonne)\n",
    "print(\"Écart type de chaque colonne :\", ecart_type_colonne)\n",
    "\n",
    "# Normalisation\n",
    "dataset_normalise = (dataset - moyenne_colonne) / ecart_type_colonne\n",
    "\n",
    "# Affichage des dimensions (shape) du dataset normalisé\n",
    "print(\"Dimensions de dataset normalisé :\", dataset_normalise.shape)\n",
    "\n",
    "# Affichage de la moyenne et de l'écart type de chaque colonne du dataset normalisé\n",
    "moyenne_colonne_normalisee = np.mean(dataset_normalise, axis=0)\n",
    "ecart_type_colonne_normalisee = np.std(dataset_normalise, axis=0)\n",
    "\n",
    "print(\"Moyenne de chaque colonne (normalisé) :\", moyenne_colonne_normalisee)\n",
    "print(\"Écart type de chaque colonne (normalisé) :\", ecart_type_colonne_normalisee)\n"
   ]
  },
  {
   "cell_type": "markdown",
   "metadata": {},
   "source": [
    "\n",
    "\n",
    "- nous aurions pu créer cet échantillon en une seule ligne de code. Consultez la documentation de *numpy.random.normal(...)* et faites-le :"
   ]
  },
  {
   "cell_type": "code",
   "execution_count": null,
   "metadata": {},
   "outputs": [],
   "source": [
    "#TODO\n",
    "\n"
   ]
  }
 ],
 "metadata": {
  "kernelspec": {
   "display_name": "Python 3",
   "language": "python",
   "name": "python3"
  },
  "language_info": {
   "codemirror_mode": {
    "name": "ipython",
    "version": 3
   },
   "file_extension": ".py",
   "mimetype": "text/x-python",
   "name": "python",
   "nbconvert_exporter": "python",
   "pygments_lexer": "ipython3",
   "version": "3.11.5"
  },
  "orig_nbformat": 4
 },
 "nbformat": 4,
 "nbformat_minor": 2
}
