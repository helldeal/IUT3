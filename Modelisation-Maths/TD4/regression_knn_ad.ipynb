{
 "cells": [
  {
   "cell_type": "markdown",
   "metadata": {},
   "source": [
    "# <center>TD5: Première séance </center>\n",
    "## <center>Autres algorithmes de régression  </center>"
   ]
  },
  {
   "cell_type": "markdown",
   "metadata": {},
   "source": [
    "Nous allons voir dans cette séance que nous pouvons aussi utiliser certains algorithmes de classification vus précédememnt pour réaliser de la régression.\n",
    "\n",
    "## 1) Les *k* plus proches voisins\n",
    "\n",
    "- Reprendre le cours sur les *k* plus proches voisins (dernier slide). Quel est le principe de l'algorithme de régression ?\n",
    "\n",
    "- Reprendre le jeu de données nommé *Boston* que vous avez utilisé pour tester la régression linéaire.\n",
    "\n",
    "- En consultant la [documentation](https://scikit-learn.org/stable/modules/generated/sklearn.neighbors.KNeighborsRegressor.html), mettre en place un modèle de régression en utilisant les *k* plus proches voisins et tester les résultats obtenus en terme de rmse et de r2 sur le même ensemble de test que précédemment.\n",
    "\n",
    "- Si vous avez le temps, vous pouvez optimiser le modèle en recherchant la meilleure valeur de *k*."
   ]
  },
  {
   "cell_type": "code",
   "execution_count": 5,
   "metadata": {},
   "outputs": [],
   "source": [
    "#TODO\n",
    "\n",
    "\n"
   ]
  },
  {
   "cell_type": "markdown",
   "metadata": {},
   "source": [
    "## 2) Les arbres de décision\n",
    "\n",
    "- Reprendre le cours sur les arbres de décision. Quel est le principe de l'algorithme de régression ?\n",
    "\n",
    "- Reprendre le jeu de données nommé *Boston* que vous avez utilisé pour tester la régression linéaire.\n",
    "\n",
    "- En consultant la [documentation](https://scikit-learn.org/stable/modules/tree.html), mettre en place un modèle de régression en utilisant les arbres de décision et tester les résultats obtenus en terme de rmse et de r2 sur le même ensemble de test que précédemment.\n",
    "\n",
    "- Si vous avez le temps, vous pouvez optimiser le modèle en recherchant la meilleure valeur de certains hyperparamètres.\n",
    "\n"
   ]
  },
  {
   "cell_type": "code",
   "execution_count": null,
   "metadata": {},
   "outputs": [],
   "source": [
    "#TODO"
   ]
  }
 ],
 "metadata": {
  "kernelspec": {
   "display_name": "base",
   "language": "python",
   "name": "python3"
  },
  "language_info": {
   "codemirror_mode": {
    "name": "ipython",
    "version": 3
   },
   "file_extension": ".py",
   "mimetype": "text/x-python",
   "name": "python",
   "nbconvert_exporter": "python",
   "pygments_lexer": "ipython3",
   "version": "3.9.13"
  }
 },
 "nbformat": 4,
 "nbformat_minor": 2
}
